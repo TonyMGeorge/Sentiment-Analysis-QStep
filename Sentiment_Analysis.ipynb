{
  "nbformat": 4,
  "nbformat_minor": 0,
  "metadata": {
    "colab": {
      "name": "Sentiment_Analysis.ipynb",
      "provenance": [],
      "authorship_tag": "ABX9TyNicjqrK+2rsvNG6RORRrEh",
      "include_colab_link": true
    },
    "kernelspec": {
      "name": "python3",
      "display_name": "Python 3"
    },
    "language_info": {
      "name": "python"
    }
  },
  "cells": [
    {
      "cell_type": "markdown",
      "metadata": {
        "id": "view-in-github",
        "colab_type": "text"
      },
      "source": [
        "<a href=\"https://colab.research.google.com/github/TonyMGeorge/Sentiment-Analysis-QStep/blob/main/Sentiment_Analysis.ipynb\" target=\"_parent\"><img src=\"https://colab.research.google.com/assets/colab-badge.svg\" alt=\"Open In Colab\"/></a>"
      ]
    },
    {
      "cell_type": "code",
      "metadata": {
        "id": "-rrLA57nv01E"
      },
      "source": [
        "import tweepy\n",
        "from textblob import TextBlob\n",
        "from wordcloud import WordCloud\n",
        "import pandas as pd\n",
        "import numpy as np\n",
        "import re\n",
        "import matplotlib.pyplot as plt\n",
        "plt.style.use('fivethirtyeight')"
      ],
      "execution_count": 2,
      "outputs": []
    },
    {
      "cell_type": "code",
      "metadata": {
        "id": "ndVgTQ9C2HvA"
      },
      "source": [
        "import csv"
      ],
      "execution_count": 3,
      "outputs": []
    },
    {
      "cell_type": "code",
      "metadata": {
        "colab": {
          "resources": {
            "http://localhost:8080/nbextensions/google.colab/files.js": {
              "data": "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",
              "ok": true,
              "headers": [
                [
                  "content-type",
                  "application/javascript"
                ]
              ],
              "status": 200,
              "status_text": ""
            }
          },
          "base_uri": "https://localhost:8080/",
          "height": 72
        },
        "id": "duE8ozgh337A",
        "outputId": "db0574d5-4048-4b22-d405-c1830e983668"
      },
      "source": [
        "#uploading the data\n",
        "from google.colab import files\n",
        "uploaded = files.upload()\n"
      ],
      "execution_count": 4,
      "outputs": [
        {
          "output_type": "display_data",
          "data": {
            "text/html": [
              "\n",
              "     <input type=\"file\" id=\"files-306315e5-d7f1-49b1-9d8d-8d46f99667a4\" name=\"files[]\" multiple disabled\n",
              "        style=\"border:none\" />\n",
              "     <output id=\"result-306315e5-d7f1-49b1-9d8d-8d46f99667a4\">\n",
              "      Upload widget is only available when the cell has been executed in the\n",
              "      current browser session. Please rerun this cell to enable.\n",
              "      </output>\n",
              "      <script src=\"/nbextensions/google.colab/files.js\"></script> "
            ],
            "text/plain": [
              "<IPython.core.display.HTML object>"
            ]
          },
          "metadata": {
            "tags": []
          }
        },
        {
          "output_type": "stream",
          "text": [
            "Saving Organised_Data.csv to Organised_Data.csv\n"
          ],
          "name": "stdout"
        }
      ]
    },
    {
      "cell_type": "code",
      "metadata": {
        "colab": {
          "base_uri": "https://localhost:8080/"
        },
        "id": "_1a-1k1b4GKZ",
        "outputId": "2a14f408-a715-4af1-c95b-30acbc35b7ef"
      },
      "source": [
        "for fn in uploaded.keys():\n",
        "  print('User uploaded file \"{name}\" with length {length} bytes'.format(\n",
        "      name=fn, length=len(uploaded[fn])))"
      ],
      "execution_count": 5,
      "outputs": [
        {
          "output_type": "stream",
          "text": [
            "User uploaded file \"Organised_Data.csv\" with length 11394 bytes\n"
          ],
          "name": "stdout"
        }
      ]
    },
    {
      "cell_type": "code",
      "metadata": {
        "colab": {
          "base_uri": "https://localhost:8080/"
        },
        "id": "3wbSVBEz4UTa",
        "outputId": "764b5290-59aa-42dd-dd93-e6e007ba790b"
      },
      "source": [
        "uploaded"
      ],
      "execution_count": 6,
      "outputs": [
        {
          "output_type": "execute_result",
          "data": {
            "text/plain": [
              "{'Organised_Data.csv': b'image_name,text,category\\r\\np3-1.png,\\x93I get so angry I want to kill him \\x96 I know its not his fault but I cant help it\\x94,Laundry Incontinence Interviews\\r\\np3-2.png,\\x93 Feel hopeless its never ending and there\\x92s only me and the long uphill battle  \\x94,Laundry Incontinence Interviews\\r\\np3-3.png,\"\\x93This is all time away from my kids and my family, I am missing out on so much\\x94\",Laundry Incontinence Interviews\\r\\np3-4.png,\\x93I guess deep down I\\x92m disgusted\\x94,Laundry Incontinence Interviews\\r\\np3-5.png,\\x93Laundry is like a hamster on a wheel \\x96 it monotonous\\x94,Laundry Incontinence Interviews\\r\\np3-6.png,\\x93I\\x92m drowning only there is no lifeguard and no ring\\x94,Laundry Incontinence Interviews\\r\\np3-7.png,\\x93Even when I am there I resent having to sit for 2 hours while the machine finishes \\x96 why cant it be quicker\\x94,Laundry Incontinence Interviews\\r\\np3-8.png,\\x93 you have to fight for every bit of help you get even \\xbc of an hour of carer time was like doing 10 rounds with Mike Tyson \\x93,Laundry Incontinence Interviews\\r\\np3-9.png,\\x93There is nothing left of me \\x96 who will pick  up the pieces\\x94,Laundry Incontinence Interviews\\r\\np3-10.png,\"\\x93I long for the end of this but I also know what that means \\x96 I\\x92m a terrible person for hoping for that\\x94\\n\",Laundry Incontinence Interviews\\r\\np3-10.png,\\x93\\x92I\\x92m not a good wife if I put him into care but this is no life\\x94,Laundry Incontinence Interviews\\r\\np3-11.png,\\x93 Carer\\x92s don\\x92t always do the job properly \\x96 its like hiring homer simpson every shortcut is taken  - I come in and Oh God she\\x92s not even dressed\\x93,Laundry Incontinence Interviews\\r\\np3-12.png,\"\\x93I feel lost, lost in myself and lost in my role as a carer, I\\x92m just doing a bad job all round\\x94\",Laundry Incontinence Interviews\\r\\np3-13.png,\"\\x93 No-one tells you what help you are entitled to, if you haven\\x92t worked in the sector then most people just don\\x92t know\\x93\",Laundry Incontinence Interviews\\r\\np4-1.png,\"\\x93I feel so sorry for her there is no dignity left, I wish I could save her the embarrassment of having to hand me soiled underwear \\x94\",Laundry Incontinence Interviews\\r\\np4-1.png,\\x93She knows she has done wrong so she hides the evidence and sends herself to her room\\x94,Laundry Incontinence Interviews\\r\\np4-2.png,\\x93Collecting and having to sort the soiled undergarments its aggressive and prickly like a thistle\\x94,Laundry Incontinence Interviews\\r\\np4-3.png,\\x93Even when she is at day center I have to go and do the washing \\x96 its like I\\x92m tied to that bloody machine\\x94,Laundry Incontinence Interviews\\r\\np4-4.png,\\x93She knows she has done wrong so she hides the evidence and sends herself to her room\\x94,Laundry Incontinence Interviews\\r\\np4-5.png,\\x93Where\\x92s my respite care \\x94,Laundry Incontinence Interviews\\r\\np4-6.png,\\x93Eventually friends just stop asking.\\x94,Laundry Incontinence Interviews\\r\\np5-1.png,\"\\x93This is my time to relax, it\\x92s the escape I need to keep going to re-charge\\x94\",Laundry Incontinence Interviews\\r\\np5-1.png,\\x93When I am on the verge of a breakdown I think\\x85. This time next week\\x94,Laundry Incontinence Interviews\\r\\np5-2.png,\\x93Burden off my shoulders light headed and giddy\\x85\\x85 free\\x94,Laundry Incontinence Interviews\\r\\np5-3.png,\\x93Escape is when it is all done and I can sit and enjoy my coffee\\x94,Laundry Incontinence Interviews\\r\\np6-1.png,\"\\x93Because I have this loving relationship with my clothes. I wash them and everything. And when I put them on, I feel like it\\'s them paying me back.\\x94\",Fabric Comfort\\r\\np6-2.png,\"\\x93Anything you treat well, you treat like a person, you always get repaid.\\x94\",Fabric Comfort\\r\\np6-3.png,\"\\x93But because it\\'s 100% cotton, my skin can breathe in it. I\\'m not going to sweat, so therefore, she\\'s going to be comfortable. And she\\'s going to want to wear that again, and again, and again, which is what I do.\\x94\",Fabric Comfort\\r\\np6-4.png,\"\\x93Pure for the skin - Something that\\'s nice and gentle, something that\\'s nothing harsh. You don\\'t want anything harsh for your skin, you want something that is close to a natural source as you can possibly get\\x85. I think it just makes it softer.\\x94\",Fabric Comfort\\r\\np6-5.png,\"\\x93Just confidence to walk in a room. You tend to think when you walk in a room that everybody\\'s looking. And it\\'s because I\\'m 100% happy with my clothes, I can walk anywhere.  It gives you that extra bit of confidence.\\x94\",Fabric Comfort\\r\\np6-6.png,\"\\x93Because I have this loving relationship with my clothes. I wash them and everything. And when I put them on, I feel like it\\'s them paying me back.\\x94\",Fabric Comfort\\r\\np6-7.png,\"Like how wine ages with time, some clothes get better with age\\x97more comfy and worn in, stretched to your body.  Jeans are best on day 3. --Jennifer\",Fabric Comfort\\r\\np7-1.png,\"\\x93It feels\\xa0scratchy\\xa0like a hedgehog, bra feels prickly not what I want next to my intimate skin\\x94\",Irritation\\r\\np7-1.png,\"\\x93Feel like material stuck to my skin,\\xa0scratchy\\xa0and I feel irritated.\\x94\",Irritation\\r\\np7-1.png,\\x93I feel warm but\\xa0scratchy\\xa0like I am lying on crumbs.\\x94,Irritation\\r\\np7-1.png,\\x93This material is all\\xa0scratchy\\xa0and grates against my skin like sandpaper!! \\x93,Irritation\\r\\np7-1.png,\\x93Feeling a bit\\xa0scratchy\\xa0down the sleeves where it touches my skin. Uncomfortable sensation against my hairs\\x94,Irritation\\r\\np7-2.png,\\x93The jeans make my skin feel\\xa0rough\\xa0almost as if im wearing sandpaper\\x94,Irritation\\r\\np7-2.png,\\x93I feel uncomfortable in this item. It us very\\xa0rough\\xa0on the skin i feel as though im rolling in a prickly hedge\\x94,Irritation\\r\\np7-2.png,\"\\x93Feeling pretty uncomfortable, the pj\\'s are feeling very\\xa0rough\\xa0against my skin, like sandpaper and making me feel itchy.\\x94\",Irritation\\r\\np7-2.png,\\x93Very hard and\\xa0rough\\xa0against the skin almost like sandpaper\\x94,Irritation\\r\\np7-3.png,\\x93my skin feels itchy and\\xa0irritated\\xa0with the material rubbing against my skin.\\x94,Irritation\\r\\np7-3.png,\"\\x93Feeling slightly\\xa0irritated\\xa0by the shirt, finding it difficult to move around and play on the floor, the shirt is all over. \\x93\",Irritation\\r\\np7-3.png,\\x93I can feel the shirt constantly against my skin and I\\'m just aware of having it on.\\x94,Irritation\\r\\np7-3.png,\\x93I an uncomfortable I feel restricted and\\xa0irritated\\x94,Irritation\\r\\np7-3.png,\"\\x93My skin felt too confined and\\xa0restricted\\xa0in the trousers, they felt like they were swamping my skin and I felt like i was being sucked in\\x94\",Irritation\\r\\np8-1.png,Clothes that are too restrictive are like an elephant sitting on you.--Catherine,Uncomfortable\\r\\np8-2.png,Like playing in the grass\\x97makes you all itchy!--Catherine,Uncomfortable\\r\\np8-3.png,You feel like you might explode if you don\\x92t get the clothes off (wool sweater).  --Catherine,Uncomfortable\\r\\np9-1.png,Smell creates a sense of belonging & togetherness for the family.,Brand Specific (Bold)\\r\\np9-2.png,\"Bold is energetic and transfers energy to the clothes and whoever s wearing them.  the Land of Bold is optimistic, energetic in mood, sunny and bright.\",Brand Specific (Bold)\\r\\np9-3.png,\"\\x93In Bold there are the right proportions of conditioner with the liquid. And they\\x92re put together, mixed together at the right balance. They\\x92re blended together perfectly properly. In a lot of cases a husband and wife are blended together, and you know that the balance is right\\x85.give and take on both sides\\x94.\",Brand Specific (Bold)\\r\\np9-4.png,\"\\x93In Bold there are the right proportions of conditioner with the liquid. And they\\x92re put together, mixed together at the right balance. They\\x92re blended together perfectly properly. In a lot of cases a husband and wife are blended together, and you know that the balance is right\\x85.give and take on both sides\\x94.\",Brand Specific (Bold)\\r\\np9-5.png,\"-Bold gives  freedom (time, money, convenience & ironing)\",Brand Specific (Bold)\\r\\np9-6.png,\"\\x93Once I have used Bold I know it\\x92s going to get my clothes clean and give my sheets a lovely fresh Smell, like outdoors indoors.  When you\\x92re in bed with a bit of a cold and your not feeling very well, you can Smell the lovely outdoors but you\\x92ve got it indoors with you and you put in around you.\\x94\",Brand Specific (Bold)\\r\\np9-7.png,\"\\x93the companion that brings you gentleness, tranquillity and serenity. It\\x92s a pleasant necessity that gives me calm and affection.\\x94\",Brand Specific (Bold)\\r\\np9-8.png,\"\\x92\\x92The emotions of my thoughts and feelings about Dash would be a cuddle. Because a cuddle is full of softness, full of tenderness \\x93\",Brand Specific (Bold)\\r\\np10-1.png,It makes me think of relaxing and going to bed and sleeping,Brand Specific (Bold)\\r\\np10-2.png,Smells lovely and soothing and natural,Brand Specific (Bold)\\r\\np10-3.png,\"I really like the fresh, herbal smell of lavender. It relaxes you and it\\'s very good for headaches\",Brand Specific (Bold)\\r\\np10-4.png,Lavender is so relaxing. I would think your clothes would smell lovely and fresh,Brand Specific (Bold)\\r\\np11-1.png,White represents being clean and free.,Cleaning\\r\\np11-2.png,White can represent an almost spiritual purity.  It means a clean feeling in body and soul.,Cleaning\\r\\np11-3.png,\"Whiteness is a return to the pristine nature order,  as clean as nature can make it.\",Cleaning\\r\\np11-4.png,\"Freshness represents the renewal of washing, the signal that something dirty has been made clean again.\",Cleaning\\r\\np11-5.png,\"Freshness is also about air, breeze, and wide open spaces.\",Cleaning\\r\\np11-6.png,Fresh washing is the signal that the washing process has been as pure and complete as possible \\x96 like water from a mountain stream.,Cleaning\\r\\np11-7.png,Stains are about worry. Stain removal is about relief.,Cleaning\\r\\np11-8.png,\"When stains are removed, the detergent has filled it\\x92s basic promise. It is this which wins trust and confidence.\",Cleaning\\r\\np11-9.png,I love it when I can let my kids be kids \\x96 and I don\\x92t have to worry about stains.,Cleaning\\r\\np11-10.png,Strength and freshness of water. It is overwhelming and it washes dirt away replacing it by its pure freshness. It is the power of renewal that perpetuates the cycle of life.,Cleaning\\r\\np12-1.png,Touch and comfort,Personal\\r\\np12-2.png,Visual Impact,Personal\\r\\np12-3.png,\\x93Scent Sensations,Personal\\r\\np12-4.png,Being a woman is about indulging in the pleasures and sensations of life.,Personal\\r\\np12-5.png,Being a woman is about independence and pursuing her own goals.,Personal\\r\\np12-6.png,Being a woman is about achieving confidence and serenity in all the different areas of my life.,Personal\\r\\np12-7.png,The preservation & enhancement of fabric texture.,Personal\\r\\np12-8.png,\"\\x93Colors need to be protected and preserved, just like children.\",Personal\\r\\np12-9.png,\\x93Colors represent the vibrancy of life and make people feel confident and alive.,Personal\\r\\np13-1.png,Many consumers want traditional techniques and trusted methods to be the guide on the laundry path.,Well-Being\\r\\np13-2.png,\"It\\x92s about creating a quiet, nurturing home space for herself and her family.\",Well-Being\\r\\np13-3.png,\"I love it when I am reminded of my happiest childhood memories, and it makes me happy to be able to be able to provide the same love for my family today.\",Well-Being\\r\\np13-4.png,Parents want the products they use to be care enablers.,Well-Being\\r\\np13-5.png,Nurturing the family means giving them the freedom to play through safety and comfort.\\x94,Well-Being\\r\\np13-6.png,Caregivers want to feel emotionally reassured by the products they use that they are doing a 100% best job to care for their families.,Well-Being\\r\\np13-7.png,Wrapping children in protection and softness.,Well-Being\\r\\np13-8.png,Skin irritations on delicate skin can be emotionally traumatic.,Well-Being\\r\\np13-9.png,It\\x92s not just about my baby \\x96 it\\x92s about making me feel that I care for him down to the tips of his toes.,Well-Being\\r\\n'}"
            ]
          },
          "metadata": {
            "tags": []
          },
          "execution_count": 6
        }
      ]
    },
    {
      "cell_type": "code",
      "metadata": {
        "id": "pz-7PqwX7lcJ"
      },
      "source": [
        "#reading the file\n",
        "text_data = pd.read_csv('Organised_Data.csv',encoding= 'unicode_escape')"
      ],
      "execution_count": 7,
      "outputs": []
    },
    {
      "cell_type": "code",
      "metadata": {
        "colab": {
          "base_uri": "https://localhost:8080/",
          "height": 204
        },
        "id": "nRAQtpy2-Jnf",
        "outputId": "3dfa6175-d2c7-47fa-a106-8eb5cf3709b1"
      },
      "source": [
        "text_data.head()"
      ],
      "execution_count": 8,
      "outputs": [
        {
          "output_type": "execute_result",
          "data": {
            "text/html": [
              "<div>\n",
              "<style scoped>\n",
              "    .dataframe tbody tr th:only-of-type {\n",
              "        vertical-align: middle;\n",
              "    }\n",
              "\n",
              "    .dataframe tbody tr th {\n",
              "        vertical-align: top;\n",
              "    }\n",
              "\n",
              "    .dataframe thead th {\n",
              "        text-align: right;\n",
              "    }\n",
              "</style>\n",
              "<table border=\"1\" class=\"dataframe\">\n",
              "  <thead>\n",
              "    <tr style=\"text-align: right;\">\n",
              "      <th></th>\n",
              "      <th>image_name</th>\n",
              "      <th>text</th>\n",
              "      <th>category</th>\n",
              "    </tr>\n",
              "  </thead>\n",
              "  <tbody>\n",
              "    <tr>\n",
              "      <th>0</th>\n",
              "      <td>p3-1.png</td>\n",
              "      <td>I get so angry I want to kill him  I know it...</td>\n",
              "      <td>Laundry Incontinence Interviews</td>\n",
              "    </tr>\n",
              "    <tr>\n",
              "      <th>1</th>\n",
              "      <td>p3-2.png</td>\n",
              "      <td> Feel hopeless its never ending and theres o...</td>\n",
              "      <td>Laundry Incontinence Interviews</td>\n",
              "    </tr>\n",
              "    <tr>\n",
              "      <th>2</th>\n",
              "      <td>p3-3.png</td>\n",
              "      <td>This is all time away from my kids and my fam...</td>\n",
              "      <td>Laundry Incontinence Interviews</td>\n",
              "    </tr>\n",
              "    <tr>\n",
              "      <th>3</th>\n",
              "      <td>p3-4.png</td>\n",
              "      <td>I guess deep down Im disgusted</td>\n",
              "      <td>Laundry Incontinence Interviews</td>\n",
              "    </tr>\n",
              "    <tr>\n",
              "      <th>4</th>\n",
              "      <td>p3-5.png</td>\n",
              "      <td>Laundry is like a hamster on a wheel  it mon...</td>\n",
              "      <td>Laundry Incontinence Interviews</td>\n",
              "    </tr>\n",
              "  </tbody>\n",
              "</table>\n",
              "</div>"
            ],
            "text/plain": [
              "  image_name  ...                         category\n",
              "0   p3-1.png  ...  Laundry Incontinence Interviews\n",
              "1   p3-2.png  ...  Laundry Incontinence Interviews\n",
              "2   p3-3.png  ...  Laundry Incontinence Interviews\n",
              "3   p3-4.png  ...  Laundry Incontinence Interviews\n",
              "4   p3-5.png  ...  Laundry Incontinence Interviews\n",
              "\n",
              "[5 rows x 3 columns]"
            ]
          },
          "metadata": {
            "tags": []
          },
          "execution_count": 8
        }
      ]
    },
    {
      "cell_type": "code",
      "metadata": {
        "id": "YyznrzMZvaoW",
        "colab": {
          "base_uri": "https://localhost:8080/",
          "height": 419
        },
        "outputId": "e2e12af5-8e55-40a3-91e9-8b27ecf643df"
      },
      "source": [
        "text_data"
      ],
      "execution_count": 9,
      "outputs": [
        {
          "output_type": "execute_result",
          "data": {
            "text/html": [
              "<div>\n",
              "<style scoped>\n",
              "    .dataframe tbody tr th:only-of-type {\n",
              "        vertical-align: middle;\n",
              "    }\n",
              "\n",
              "    .dataframe tbody tr th {\n",
              "        vertical-align: top;\n",
              "    }\n",
              "\n",
              "    .dataframe thead th {\n",
              "        text-align: right;\n",
              "    }\n",
              "</style>\n",
              "<table border=\"1\" class=\"dataframe\">\n",
              "  <thead>\n",
              "    <tr style=\"text-align: right;\">\n",
              "      <th></th>\n",
              "      <th>image_name</th>\n",
              "      <th>text</th>\n",
              "      <th>category</th>\n",
              "    </tr>\n",
              "  </thead>\n",
              "  <tbody>\n",
              "    <tr>\n",
              "      <th>0</th>\n",
              "      <td>p3-1.png</td>\n",
              "      <td>I get so angry I want to kill him  I know it...</td>\n",
              "      <td>Laundry Incontinence Interviews</td>\n",
              "    </tr>\n",
              "    <tr>\n",
              "      <th>1</th>\n",
              "      <td>p3-2.png</td>\n",
              "      <td> Feel hopeless its never ending and theres o...</td>\n",
              "      <td>Laundry Incontinence Interviews</td>\n",
              "    </tr>\n",
              "    <tr>\n",
              "      <th>2</th>\n",
              "      <td>p3-3.png</td>\n",
              "      <td>This is all time away from my kids and my fam...</td>\n",
              "      <td>Laundry Incontinence Interviews</td>\n",
              "    </tr>\n",
              "    <tr>\n",
              "      <th>3</th>\n",
              "      <td>p3-4.png</td>\n",
              "      <td>I guess deep down Im disgusted</td>\n",
              "      <td>Laundry Incontinence Interviews</td>\n",
              "    </tr>\n",
              "    <tr>\n",
              "      <th>4</th>\n",
              "      <td>p3-5.png</td>\n",
              "      <td>Laundry is like a hamster on a wheel  it mon...</td>\n",
              "      <td>Laundry Incontinence Interviews</td>\n",
              "    </tr>\n",
              "    <tr>\n",
              "      <th>...</th>\n",
              "      <td>...</td>\n",
              "      <td>...</td>\n",
              "      <td>...</td>\n",
              "    </tr>\n",
              "    <tr>\n",
              "      <th>84</th>\n",
              "      <td>p13-5.png</td>\n",
              "      <td>Nurturing the family means giving them the fre...</td>\n",
              "      <td>Well-Being</td>\n",
              "    </tr>\n",
              "    <tr>\n",
              "      <th>85</th>\n",
              "      <td>p13-6.png</td>\n",
              "      <td>Caregivers want to feel emotionally reassured ...</td>\n",
              "      <td>Well-Being</td>\n",
              "    </tr>\n",
              "    <tr>\n",
              "      <th>86</th>\n",
              "      <td>p13-7.png</td>\n",
              "      <td>Wrapping children in protection and softness.</td>\n",
              "      <td>Well-Being</td>\n",
              "    </tr>\n",
              "    <tr>\n",
              "      <th>87</th>\n",
              "      <td>p13-8.png</td>\n",
              "      <td>Skin irritations on delicate skin can be emoti...</td>\n",
              "      <td>Well-Being</td>\n",
              "    </tr>\n",
              "    <tr>\n",
              "      <th>88</th>\n",
              "      <td>p13-9.png</td>\n",
              "      <td>Its not just about my baby  its about makin...</td>\n",
              "      <td>Well-Being</td>\n",
              "    </tr>\n",
              "  </tbody>\n",
              "</table>\n",
              "<p>89 rows × 3 columns</p>\n",
              "</div>"
            ],
            "text/plain": [
              "   image_name  ...                         category\n",
              "0    p3-1.png  ...  Laundry Incontinence Interviews\n",
              "1    p3-2.png  ...  Laundry Incontinence Interviews\n",
              "2    p3-3.png  ...  Laundry Incontinence Interviews\n",
              "3    p3-4.png  ...  Laundry Incontinence Interviews\n",
              "4    p3-5.png  ...  Laundry Incontinence Interviews\n",
              "..        ...  ...                              ...\n",
              "84  p13-5.png  ...                       Well-Being\n",
              "85  p13-6.png  ...                       Well-Being\n",
              "86  p13-7.png  ...                       Well-Being\n",
              "87  p13-8.png  ...                       Well-Being\n",
              "88  p13-9.png  ...                       Well-Being\n",
              "\n",
              "[89 rows x 3 columns]"
            ]
          },
          "metadata": {
            "tags": []
          },
          "execution_count": 9
        }
      ]
    },
    {
      "cell_type": "code",
      "metadata": {
        "id": "adkKxtUBv2qP"
      },
      "source": [
        "#specifying columns to remove\n",
        "to_drop = ['image_name',\n",
        "              'category']"
      ],
      "execution_count": 10,
      "outputs": []
    },
    {
      "cell_type": "code",
      "metadata": {
        "id": "S1WR7XBkwlcw"
      },
      "source": [
        "#removing specified columns\n",
        "text_data.drop(to_drop, inplace=True, axis=1)"
      ],
      "execution_count": 11,
      "outputs": []
    },
    {
      "cell_type": "code",
      "metadata": {
        "colab": {
          "base_uri": "https://localhost:8080/",
          "height": 419
        },
        "id": "wkjgf25Iwsxf",
        "outputId": "4d1abd61-36ad-4045-e834-d9c37067fab3"
      },
      "source": [
        "text_data"
      ],
      "execution_count": 12,
      "outputs": [
        {
          "output_type": "execute_result",
          "data": {
            "text/html": [
              "<div>\n",
              "<style scoped>\n",
              "    .dataframe tbody tr th:only-of-type {\n",
              "        vertical-align: middle;\n",
              "    }\n",
              "\n",
              "    .dataframe tbody tr th {\n",
              "        vertical-align: top;\n",
              "    }\n",
              "\n",
              "    .dataframe thead th {\n",
              "        text-align: right;\n",
              "    }\n",
              "</style>\n",
              "<table border=\"1\" class=\"dataframe\">\n",
              "  <thead>\n",
              "    <tr style=\"text-align: right;\">\n",
              "      <th></th>\n",
              "      <th>text</th>\n",
              "    </tr>\n",
              "  </thead>\n",
              "  <tbody>\n",
              "    <tr>\n",
              "      <th>0</th>\n",
              "      <td>I get so angry I want to kill him  I know it...</td>\n",
              "    </tr>\n",
              "    <tr>\n",
              "      <th>1</th>\n",
              "      <td> Feel hopeless its never ending and theres o...</td>\n",
              "    </tr>\n",
              "    <tr>\n",
              "      <th>2</th>\n",
              "      <td>This is all time away from my kids and my fam...</td>\n",
              "    </tr>\n",
              "    <tr>\n",
              "      <th>3</th>\n",
              "      <td>I guess deep down Im disgusted</td>\n",
              "    </tr>\n",
              "    <tr>\n",
              "      <th>4</th>\n",
              "      <td>Laundry is like a hamster on a wheel  it mon...</td>\n",
              "    </tr>\n",
              "    <tr>\n",
              "      <th>...</th>\n",
              "      <td>...</td>\n",
              "    </tr>\n",
              "    <tr>\n",
              "      <th>84</th>\n",
              "      <td>Nurturing the family means giving them the fre...</td>\n",
              "    </tr>\n",
              "    <tr>\n",
              "      <th>85</th>\n",
              "      <td>Caregivers want to feel emotionally reassured ...</td>\n",
              "    </tr>\n",
              "    <tr>\n",
              "      <th>86</th>\n",
              "      <td>Wrapping children in protection and softness.</td>\n",
              "    </tr>\n",
              "    <tr>\n",
              "      <th>87</th>\n",
              "      <td>Skin irritations on delicate skin can be emoti...</td>\n",
              "    </tr>\n",
              "    <tr>\n",
              "      <th>88</th>\n",
              "      <td>Its not just about my baby  its about makin...</td>\n",
              "    </tr>\n",
              "  </tbody>\n",
              "</table>\n",
              "<p>89 rows × 1 columns</p>\n",
              "</div>"
            ],
            "text/plain": [
              "                                                 text\n",
              "0   I get so angry I want to kill him  I know it...\n",
              "1    Feel hopeless its never ending and theres o...\n",
              "2   This is all time away from my kids and my fam...\n",
              "3                   I guess deep down Im disgusted\n",
              "4   Laundry is like a hamster on a wheel  it mon...\n",
              "..                                                ...\n",
              "84  Nurturing the family means giving them the fre...\n",
              "85  Caregivers want to feel emotionally reassured ...\n",
              "86      Wrapping children in protection and softness.\n",
              "87  Skin irritations on delicate skin can be emoti...\n",
              "88  Its not just about my baby  its about makin...\n",
              "\n",
              "[89 rows x 1 columns]"
            ]
          },
          "metadata": {
            "tags": []
          },
          "execution_count": 12
        }
      ]
    },
    {
      "cell_type": "code",
      "metadata": {
        "id": "89AsSfJtx52B"
      },
      "source": [
        "import string "
      ],
      "execution_count": 13,
      "outputs": []
    },
    {
      "cell_type": "code",
      "metadata": {
        "colab": {
          "base_uri": "https://localhost:8080/"
        },
        "id": "npdB2N_mvvZH",
        "outputId": "335c42ee-26a5-4bc4-e750-5abf04a7929b"
      },
      "source": [
        "print(string.punctuation)"
      ],
      "execution_count": 14,
      "outputs": [
        {
          "output_type": "stream",
          "text": [
            "!\"#$%&'()*+,-./:;<=>?@[\\]^_`{|}~\n"
          ],
          "name": "stdout"
        }
      ]
    },
    {
      "cell_type": "code",
      "metadata": {
        "id": "9j2usGLTyJ0h"
      },
      "source": [
        "#removing punctuation\n",
        "text_data['clean_text'] = text_data['text'].str.replace('[^\\w\\s]','')"
      ],
      "execution_count": 15,
      "outputs": []
    },
    {
      "cell_type": "code",
      "metadata": {
        "colab": {
          "base_uri": "https://localhost:8080/",
          "height": 419
        },
        "id": "hfoql-crzBfy",
        "outputId": "adf84b84-40ce-40ca-c2d0-f9a202f62c2c"
      },
      "source": [
        "text_data"
      ],
      "execution_count": 16,
      "outputs": [
        {
          "output_type": "execute_result",
          "data": {
            "text/html": [
              "<div>\n",
              "<style scoped>\n",
              "    .dataframe tbody tr th:only-of-type {\n",
              "        vertical-align: middle;\n",
              "    }\n",
              "\n",
              "    .dataframe tbody tr th {\n",
              "        vertical-align: top;\n",
              "    }\n",
              "\n",
              "    .dataframe thead th {\n",
              "        text-align: right;\n",
              "    }\n",
              "</style>\n",
              "<table border=\"1\" class=\"dataframe\">\n",
              "  <thead>\n",
              "    <tr style=\"text-align: right;\">\n",
              "      <th></th>\n",
              "      <th>text</th>\n",
              "      <th>clean_text</th>\n",
              "    </tr>\n",
              "  </thead>\n",
              "  <tbody>\n",
              "    <tr>\n",
              "      <th>0</th>\n",
              "      <td>I get so angry I want to kill him  I know it...</td>\n",
              "      <td>I get so angry I want to kill him  I know its ...</td>\n",
              "    </tr>\n",
              "    <tr>\n",
              "      <th>1</th>\n",
              "      <td> Feel hopeless its never ending and theres o...</td>\n",
              "      <td>Feel hopeless its never ending and theres onl...</td>\n",
              "    </tr>\n",
              "    <tr>\n",
              "      <th>2</th>\n",
              "      <td>This is all time away from my kids and my fam...</td>\n",
              "      <td>This is all time away from my kids and my fami...</td>\n",
              "    </tr>\n",
              "    <tr>\n",
              "      <th>3</th>\n",
              "      <td>I guess deep down Im disgusted</td>\n",
              "      <td>I guess deep down Im disgusted</td>\n",
              "    </tr>\n",
              "    <tr>\n",
              "      <th>4</th>\n",
              "      <td>Laundry is like a hamster on a wheel  it mon...</td>\n",
              "      <td>Laundry is like a hamster on a wheel  it monot...</td>\n",
              "    </tr>\n",
              "    <tr>\n",
              "      <th>...</th>\n",
              "      <td>...</td>\n",
              "      <td>...</td>\n",
              "    </tr>\n",
              "    <tr>\n",
              "      <th>84</th>\n",
              "      <td>Nurturing the family means giving them the fre...</td>\n",
              "      <td>Nurturing the family means giving them the fre...</td>\n",
              "    </tr>\n",
              "    <tr>\n",
              "      <th>85</th>\n",
              "      <td>Caregivers want to feel emotionally reassured ...</td>\n",
              "      <td>Caregivers want to feel emotionally reassured ...</td>\n",
              "    </tr>\n",
              "    <tr>\n",
              "      <th>86</th>\n",
              "      <td>Wrapping children in protection and softness.</td>\n",
              "      <td>Wrapping children in protection and softness</td>\n",
              "    </tr>\n",
              "    <tr>\n",
              "      <th>87</th>\n",
              "      <td>Skin irritations on delicate skin can be emoti...</td>\n",
              "      <td>Skin irritations on delicate skin can be emoti...</td>\n",
              "    </tr>\n",
              "    <tr>\n",
              "      <th>88</th>\n",
              "      <td>Its not just about my baby  its about makin...</td>\n",
              "      <td>Its not just about my baby  its about making m...</td>\n",
              "    </tr>\n",
              "  </tbody>\n",
              "</table>\n",
              "<p>89 rows × 2 columns</p>\n",
              "</div>"
            ],
            "text/plain": [
              "                                                 text                                         clean_text\n",
              "0   I get so angry I want to kill him  I know it...  I get so angry I want to kill him  I know its ...\n",
              "1    Feel hopeless its never ending and theres o...   Feel hopeless its never ending and theres onl...\n",
              "2   This is all time away from my kids and my fam...  This is all time away from my kids and my fami...\n",
              "3                   I guess deep down Im disgusted                     I guess deep down Im disgusted\n",
              "4   Laundry is like a hamster on a wheel  it mon...  Laundry is like a hamster on a wheel  it monot...\n",
              "..                                                ...                                                ...\n",
              "84  Nurturing the family means giving them the fre...  Nurturing the family means giving them the fre...\n",
              "85  Caregivers want to feel emotionally reassured ...  Caregivers want to feel emotionally reassured ...\n",
              "86      Wrapping children in protection and softness.       Wrapping children in protection and softness\n",
              "87  Skin irritations on delicate skin can be emoti...  Skin irritations on delicate skin can be emoti...\n",
              "88  Its not just about my baby  its about makin...  Its not just about my baby  its about making m...\n",
              "\n",
              "[89 rows x 2 columns]"
            ]
          },
          "metadata": {
            "tags": []
          },
          "execution_count": 16
        }
      ]
    },
    {
      "cell_type": "code",
      "metadata": {
        "colab": {
          "base_uri": "https://localhost:8080/"
        },
        "id": "kWYRNLlRku8V",
        "outputId": "68471fe2-5647-43cd-af0f-1363ce8d3565"
      },
      "source": [
        "import nltk\n",
        "from nltk.corpus import stopwords\n",
        "nltk.download(\"stopwords\")"
      ],
      "execution_count": 17,
      "outputs": [
        {
          "output_type": "stream",
          "text": [
            "[nltk_data] Downloading package stopwords to /root/nltk_data...\n",
            "[nltk_data]   Unzipping corpora/stopwords.zip.\n"
          ],
          "name": "stdout"
        },
        {
          "output_type": "execute_result",
          "data": {
            "text/plain": [
              "True"
            ]
          },
          "metadata": {
            "tags": []
          },
          "execution_count": 17
        }
      ]
    },
    {
      "cell_type": "code",
      "metadata": {
        "colab": {
          "base_uri": "https://localhost:8080/"
        },
        "id": "LZ5h-b7NmW6P",
        "outputId": "352126ed-3b1b-42c5-b7dc-bc437f0ea79d"
      },
      "source": [
        "stop_words = set(stopwords.words(\"english\"))\n",
        "stop_words.add('I')\n",
        "stop_words.add('Im')\n",
        "print(stop_words)"
      ],
      "execution_count": 18,
      "outputs": [
        {
          "output_type": "stream",
          "text": [
            "{'aren', 'them', 'our', 'their', \"should've\", 'or', 'only', 'into', 've', 'she', 'other', 'such', 'each', 'weren', 't', 'him', 'because', 'shouldn', 'up', 'have', 'during', 'they', \"it's\", 'ours', 'doing', 'that', 'was', 'nor', 'were', 'the', \"mustn't\", 'shan', 'wouldn', 'in', 'having', 'about', 're', 'there', 'is', \"she's\", 'who', \"you'd\", 'where', 'your', 'down', \"doesn't\", 'below', \"weren't\", \"aren't\", 'mightn', \"you're\", 'which', \"couldn't\", 'whom', 'me', 'mustn', 'how', 'o', 'at', 'didn', 'than', 'same', 'my', 'he', 'any', 'after', \"you'll\", 'most', \"hadn't\", 'against', 'won', \"shouldn't\", 'ourselves', 'herself', 'hasn', 'a', 'Im', 'off', 'here', 'until', 'some', 'you', \"don't\", 'yours', \"wouldn't\", 'of', 'couldn', 'himself', 'myself', 'we', 'i', 'itself', 'be', 'isn', 'theirs', 'don', 'its', 'can', \"won't\", 'very', 'her', 'above', 'hadn', 'am', 'should', 'between', 'further', 'these', 'y', \"mightn't\", 'this', \"you've\", 'so', 'needn', 'doesn', 'over', 'are', 'when', 'an', 'm', 'but', 'if', \"needn't\", 'own', 'and', 'then', 'not', 'no', 'been', 'haven', 'ma', 'has', \"didn't\", \"wasn't\", \"isn't\", 'it', 'those', 'for', 'will', 'before', 'more', 'through', 'll', 'out', 'on', 'while', \"hasn't\", 'by', \"shan't\", 'with', 'under', 'had', 'all', \"that'll\", 'yourselves', 'hers', 's', 'do', 'as', 'once', 'I', 'did', 'again', \"haven't\", 'yourself', 'd', 'from', 'wasn', 'now', 'his', 'what', 'why', 'both', 'does', 'few', 'too', 'just', 'ain', 'to', 'themselves', 'being'}\n"
          ],
          "name": "stdout"
        }
      ]
    },
    {
      "cell_type": "code",
      "metadata": {
        "id": "0EnicHXRzKrR"
      },
      "source": [
        "#removing stopwords\n",
        "text_data['clean_text'] = text_data['clean_text'].apply(lambda x: ' '.join([word for word in x.split() if word not in (stop_words)]))"
      ],
      "execution_count": 19,
      "outputs": []
    },
    {
      "cell_type": "code",
      "metadata": {
        "colab": {
          "base_uri": "https://localhost:8080/",
          "height": 419
        },
        "id": "9zbGrSOv07ck",
        "outputId": "f46f79ed-2295-422d-a939-66f2c8701889"
      },
      "source": [
        "text_data"
      ],
      "execution_count": 20,
      "outputs": [
        {
          "output_type": "execute_result",
          "data": {
            "text/html": [
              "<div>\n",
              "<style scoped>\n",
              "    .dataframe tbody tr th:only-of-type {\n",
              "        vertical-align: middle;\n",
              "    }\n",
              "\n",
              "    .dataframe tbody tr th {\n",
              "        vertical-align: top;\n",
              "    }\n",
              "\n",
              "    .dataframe thead th {\n",
              "        text-align: right;\n",
              "    }\n",
              "</style>\n",
              "<table border=\"1\" class=\"dataframe\">\n",
              "  <thead>\n",
              "    <tr style=\"text-align: right;\">\n",
              "      <th></th>\n",
              "      <th>text</th>\n",
              "      <th>clean_text</th>\n",
              "    </tr>\n",
              "  </thead>\n",
              "  <tbody>\n",
              "    <tr>\n",
              "      <th>0</th>\n",
              "      <td>I get so angry I want to kill him  I know it...</td>\n",
              "      <td>get angry want kill know fault cant help</td>\n",
              "    </tr>\n",
              "    <tr>\n",
              "      <th>1</th>\n",
              "      <td> Feel hopeless its never ending and theres o...</td>\n",
              "      <td>Feel hopeless never ending theres long uphill ...</td>\n",
              "    </tr>\n",
              "    <tr>\n",
              "      <th>2</th>\n",
              "      <td>This is all time away from my kids and my fam...</td>\n",
              "      <td>This time away kids family missing much</td>\n",
              "    </tr>\n",
              "    <tr>\n",
              "      <th>3</th>\n",
              "      <td>I guess deep down Im disgusted</td>\n",
              "      <td>guess deep disgusted</td>\n",
              "    </tr>\n",
              "    <tr>\n",
              "      <th>4</th>\n",
              "      <td>Laundry is like a hamster on a wheel  it mon...</td>\n",
              "      <td>Laundry like hamster wheel monotonous</td>\n",
              "    </tr>\n",
              "    <tr>\n",
              "      <th>...</th>\n",
              "      <td>...</td>\n",
              "      <td>...</td>\n",
              "    </tr>\n",
              "    <tr>\n",
              "      <th>84</th>\n",
              "      <td>Nurturing the family means giving them the fre...</td>\n",
              "      <td>Nurturing family means giving freedom play saf...</td>\n",
              "    </tr>\n",
              "    <tr>\n",
              "      <th>85</th>\n",
              "      <td>Caregivers want to feel emotionally reassured ...</td>\n",
              "      <td>Caregivers want feel emotionally reassured pro...</td>\n",
              "    </tr>\n",
              "    <tr>\n",
              "      <th>86</th>\n",
              "      <td>Wrapping children in protection and softness.</td>\n",
              "      <td>Wrapping children protection softness</td>\n",
              "    </tr>\n",
              "    <tr>\n",
              "      <th>87</th>\n",
              "      <td>Skin irritations on delicate skin can be emoti...</td>\n",
              "      <td>Skin irritations delicate skin emotionally tra...</td>\n",
              "    </tr>\n",
              "    <tr>\n",
              "      <th>88</th>\n",
              "      <td>Its not just about my baby  its about makin...</td>\n",
              "      <td>Its baby making feel care tips toes</td>\n",
              "    </tr>\n",
              "  </tbody>\n",
              "</table>\n",
              "<p>89 rows × 2 columns</p>\n",
              "</div>"
            ],
            "text/plain": [
              "                                                 text                                         clean_text\n",
              "0   I get so angry I want to kill him  I know it...           get angry want kill know fault cant help\n",
              "1    Feel hopeless its never ending and theres o...  Feel hopeless never ending theres long uphill ...\n",
              "2   This is all time away from my kids and my fam...            This time away kids family missing much\n",
              "3                   I guess deep down Im disgusted                               guess deep disgusted\n",
              "4   Laundry is like a hamster on a wheel  it mon...              Laundry like hamster wheel monotonous\n",
              "..                                                ...                                                ...\n",
              "84  Nurturing the family means giving them the fre...  Nurturing family means giving freedom play saf...\n",
              "85  Caregivers want to feel emotionally reassured ...  Caregivers want feel emotionally reassured pro...\n",
              "86      Wrapping children in protection and softness.              Wrapping children protection softness\n",
              "87  Skin irritations on delicate skin can be emoti...  Skin irritations delicate skin emotionally tra...\n",
              "88  Its not just about my baby  its about makin...                Its baby making feel care tips toes\n",
              "\n",
              "[89 rows x 2 columns]"
            ]
          },
          "metadata": {
            "tags": []
          },
          "execution_count": 20
        }
      ]
    },
    {
      "cell_type": "code",
      "metadata": {
        "id": "GhxIBhF437ds"
      },
      "source": [
        "#make lowercase\n",
        "text_data['clean_text'] = text_data['clean_text'].str.lower()"
      ],
      "execution_count": 21,
      "outputs": []
    },
    {
      "cell_type": "code",
      "metadata": {
        "colab": {
          "base_uri": "https://localhost:8080/",
          "height": 419
        },
        "id": "DKGAQDAo-cdM",
        "outputId": "f70da9f6-796a-4687-f0d9-1ad46a57a50d"
      },
      "source": [
        "text_data"
      ],
      "execution_count": 22,
      "outputs": [
        {
          "output_type": "execute_result",
          "data": {
            "text/html": [
              "<div>\n",
              "<style scoped>\n",
              "    .dataframe tbody tr th:only-of-type {\n",
              "        vertical-align: middle;\n",
              "    }\n",
              "\n",
              "    .dataframe tbody tr th {\n",
              "        vertical-align: top;\n",
              "    }\n",
              "\n",
              "    .dataframe thead th {\n",
              "        text-align: right;\n",
              "    }\n",
              "</style>\n",
              "<table border=\"1\" class=\"dataframe\">\n",
              "  <thead>\n",
              "    <tr style=\"text-align: right;\">\n",
              "      <th></th>\n",
              "      <th>text</th>\n",
              "      <th>clean_text</th>\n",
              "    </tr>\n",
              "  </thead>\n",
              "  <tbody>\n",
              "    <tr>\n",
              "      <th>0</th>\n",
              "      <td>I get so angry I want to kill him  I know it...</td>\n",
              "      <td>get angry want kill know fault cant help</td>\n",
              "    </tr>\n",
              "    <tr>\n",
              "      <th>1</th>\n",
              "      <td> Feel hopeless its never ending and theres o...</td>\n",
              "      <td>feel hopeless never ending theres long uphill ...</td>\n",
              "    </tr>\n",
              "    <tr>\n",
              "      <th>2</th>\n",
              "      <td>This is all time away from my kids and my fam...</td>\n",
              "      <td>this time away kids family missing much</td>\n",
              "    </tr>\n",
              "    <tr>\n",
              "      <th>3</th>\n",
              "      <td>I guess deep down Im disgusted</td>\n",
              "      <td>guess deep disgusted</td>\n",
              "    </tr>\n",
              "    <tr>\n",
              "      <th>4</th>\n",
              "      <td>Laundry is like a hamster on a wheel  it mon...</td>\n",
              "      <td>laundry like hamster wheel monotonous</td>\n",
              "    </tr>\n",
              "    <tr>\n",
              "      <th>...</th>\n",
              "      <td>...</td>\n",
              "      <td>...</td>\n",
              "    </tr>\n",
              "    <tr>\n",
              "      <th>84</th>\n",
              "      <td>Nurturing the family means giving them the fre...</td>\n",
              "      <td>nurturing family means giving freedom play saf...</td>\n",
              "    </tr>\n",
              "    <tr>\n",
              "      <th>85</th>\n",
              "      <td>Caregivers want to feel emotionally reassured ...</td>\n",
              "      <td>caregivers want feel emotionally reassured pro...</td>\n",
              "    </tr>\n",
              "    <tr>\n",
              "      <th>86</th>\n",
              "      <td>Wrapping children in protection and softness.</td>\n",
              "      <td>wrapping children protection softness</td>\n",
              "    </tr>\n",
              "    <tr>\n",
              "      <th>87</th>\n",
              "      <td>Skin irritations on delicate skin can be emoti...</td>\n",
              "      <td>skin irritations delicate skin emotionally tra...</td>\n",
              "    </tr>\n",
              "    <tr>\n",
              "      <th>88</th>\n",
              "      <td>Its not just about my baby  its about makin...</td>\n",
              "      <td>its baby making feel care tips toes</td>\n",
              "    </tr>\n",
              "  </tbody>\n",
              "</table>\n",
              "<p>89 rows × 2 columns</p>\n",
              "</div>"
            ],
            "text/plain": [
              "                                                 text                                         clean_text\n",
              "0   I get so angry I want to kill him  I know it...           get angry want kill know fault cant help\n",
              "1    Feel hopeless its never ending and theres o...  feel hopeless never ending theres long uphill ...\n",
              "2   This is all time away from my kids and my fam...            this time away kids family missing much\n",
              "3                   I guess deep down Im disgusted                               guess deep disgusted\n",
              "4   Laundry is like a hamster on a wheel  it mon...              laundry like hamster wheel monotonous\n",
              "..                                                ...                                                ...\n",
              "84  Nurturing the family means giving them the fre...  nurturing family means giving freedom play saf...\n",
              "85  Caregivers want to feel emotionally reassured ...  caregivers want feel emotionally reassured pro...\n",
              "86      Wrapping children in protection and softness.              wrapping children protection softness\n",
              "87  Skin irritations on delicate skin can be emoti...  skin irritations delicate skin emotionally tra...\n",
              "88  Its not just about my baby  its about makin...                its baby making feel care tips toes\n",
              "\n",
              "[89 rows x 2 columns]"
            ]
          },
          "metadata": {
            "tags": []
          },
          "execution_count": 22
        }
      ]
    },
    {
      "cell_type": "code",
      "metadata": {
        "id": "Hr-RODSM_PmD"
      },
      "source": [
        "#removing numbers\n",
        "text_data['clean_text'] = text_data['clean_text'].str.replace('\\d+', '')"
      ],
      "execution_count": 23,
      "outputs": []
    },
    {
      "cell_type": "code",
      "metadata": {
        "colab": {
          "base_uri": "https://localhost:8080/",
          "height": 419
        },
        "id": "awprJ-_X_urt",
        "outputId": "5615d0b0-2bb5-4a78-ce85-aa1318ab8db8"
      },
      "source": [
        "text_data"
      ],
      "execution_count": 24,
      "outputs": [
        {
          "output_type": "execute_result",
          "data": {
            "text/html": [
              "<div>\n",
              "<style scoped>\n",
              "    .dataframe tbody tr th:only-of-type {\n",
              "        vertical-align: middle;\n",
              "    }\n",
              "\n",
              "    .dataframe tbody tr th {\n",
              "        vertical-align: top;\n",
              "    }\n",
              "\n",
              "    .dataframe thead th {\n",
              "        text-align: right;\n",
              "    }\n",
              "</style>\n",
              "<table border=\"1\" class=\"dataframe\">\n",
              "  <thead>\n",
              "    <tr style=\"text-align: right;\">\n",
              "      <th></th>\n",
              "      <th>text</th>\n",
              "      <th>clean_text</th>\n",
              "    </tr>\n",
              "  </thead>\n",
              "  <tbody>\n",
              "    <tr>\n",
              "      <th>0</th>\n",
              "      <td>I get so angry I want to kill him  I know it...</td>\n",
              "      <td>get angry want kill know fault cant help</td>\n",
              "    </tr>\n",
              "    <tr>\n",
              "      <th>1</th>\n",
              "      <td> Feel hopeless its never ending and theres o...</td>\n",
              "      <td>feel hopeless never ending theres long uphill ...</td>\n",
              "    </tr>\n",
              "    <tr>\n",
              "      <th>2</th>\n",
              "      <td>This is all time away from my kids and my fam...</td>\n",
              "      <td>this time away kids family missing much</td>\n",
              "    </tr>\n",
              "    <tr>\n",
              "      <th>3</th>\n",
              "      <td>I guess deep down Im disgusted</td>\n",
              "      <td>guess deep disgusted</td>\n",
              "    </tr>\n",
              "    <tr>\n",
              "      <th>4</th>\n",
              "      <td>Laundry is like a hamster on a wheel  it mon...</td>\n",
              "      <td>laundry like hamster wheel monotonous</td>\n",
              "    </tr>\n",
              "    <tr>\n",
              "      <th>...</th>\n",
              "      <td>...</td>\n",
              "      <td>...</td>\n",
              "    </tr>\n",
              "    <tr>\n",
              "      <th>84</th>\n",
              "      <td>Nurturing the family means giving them the fre...</td>\n",
              "      <td>nurturing family means giving freedom play saf...</td>\n",
              "    </tr>\n",
              "    <tr>\n",
              "      <th>85</th>\n",
              "      <td>Caregivers want to feel emotionally reassured ...</td>\n",
              "      <td>caregivers want feel emotionally reassured pro...</td>\n",
              "    </tr>\n",
              "    <tr>\n",
              "      <th>86</th>\n",
              "      <td>Wrapping children in protection and softness.</td>\n",
              "      <td>wrapping children protection softness</td>\n",
              "    </tr>\n",
              "    <tr>\n",
              "      <th>87</th>\n",
              "      <td>Skin irritations on delicate skin can be emoti...</td>\n",
              "      <td>skin irritations delicate skin emotionally tra...</td>\n",
              "    </tr>\n",
              "    <tr>\n",
              "      <th>88</th>\n",
              "      <td>Its not just about my baby  its about makin...</td>\n",
              "      <td>its baby making feel care tips toes</td>\n",
              "    </tr>\n",
              "  </tbody>\n",
              "</table>\n",
              "<p>89 rows × 2 columns</p>\n",
              "</div>"
            ],
            "text/plain": [
              "                                                 text                                         clean_text\n",
              "0   I get so angry I want to kill him  I know it...           get angry want kill know fault cant help\n",
              "1    Feel hopeless its never ending and theres o...  feel hopeless never ending theres long uphill ...\n",
              "2   This is all time away from my kids and my fam...            this time away kids family missing much\n",
              "3                   I guess deep down Im disgusted                               guess deep disgusted\n",
              "4   Laundry is like a hamster on a wheel  it mon...              laundry like hamster wheel monotonous\n",
              "..                                                ...                                                ...\n",
              "84  Nurturing the family means giving them the fre...  nurturing family means giving freedom play saf...\n",
              "85  Caregivers want to feel emotionally reassured ...  caregivers want feel emotionally reassured pro...\n",
              "86      Wrapping children in protection and softness.              wrapping children protection softness\n",
              "87  Skin irritations on delicate skin can be emoti...  skin irritations delicate skin emotionally tra...\n",
              "88  Its not just about my baby  its about makin...                its baby making feel care tips toes\n",
              "\n",
              "[89 rows x 2 columns]"
            ]
          },
          "metadata": {
            "tags": []
          },
          "execution_count": 24
        }
      ]
    },
    {
      "cell_type": "code",
      "metadata": {
        "id": "hgp0CW-eon0a"
      },
      "source": [
        "text_string = \" \".join(text for text in text_data['clean_text'])"
      ],
      "execution_count": 25,
      "outputs": []
    },
    {
      "cell_type": "code",
      "metadata": {
        "colab": {
          "base_uri": "https://localhost:8080/",
          "height": 35
        },
        "id": "zLklB5_DrUY9",
        "outputId": "e88b5974-ef3f-4f98-906f-098027fe1a10"
      },
      "source": [
        "text_string[0:200]"
      ],
      "execution_count": 26,
      "outputs": [
        {
          "output_type": "execute_result",
          "data": {
            "application/vnd.google.colaboratory.intrinsic+json": {
              "type": "string"
            },
            "text/plain": [
              "'get angry want kill know fault cant help feel hopeless never ending theres long uphill battle this time away kids family missing much guess deep disgusted laundry like hamster wheel monotonous drownin'"
            ]
          },
          "metadata": {
            "tags": []
          },
          "execution_count": 26
        }
      ]
    },
    {
      "cell_type": "code",
      "metadata": {
        "colab": {
          "base_uri": "https://localhost:8080/",
          "height": 219
        },
        "id": "98OGBTBYrgkV",
        "outputId": "ff47105b-083d-4209-b699-3c1cdda960c6"
      },
      "source": [
        "text_wordcloud = WordCloud(background_color=\"white\", \n",
        "                              max_words=100, \n",
        "                             ).generate(text_string)\n",
        "\n",
        "# view the wordcloud\n",
        "plt.imshow(text_wordcloud, interpolation='bilinear')\n",
        "plt.axis('off')\n",
        "plt.show()"
      ],
      "execution_count": 27,
      "outputs": [
        {
          "output_type": "display_data",
          "data": {
            "image/png": "[encoded data removed]",
            "text/plain": [
              "<Figure size 432x288 with 1 Axes>"
            ]
          },
          "metadata": {
            "tags": []
          }
        }
      ]
    },
    {
      "cell_type": "code",
      "metadata": {
        "id": "Dcwt2c1l_xpa"
      },
      "source": [
        "#sentiment analysis\n",
        "def getPolarity(text):\n",
        "  return TextBlob(text).sentiment.polarity\n",
        "\n",
        "text_data['Polarity'] = text_data['clean_text'].apply(getPolarity)\n",
        " "
      ],
      "execution_count": 28,
      "outputs": []
    },
    {
      "cell_type": "code",
      "metadata": {
        "colab": {
          "base_uri": "https://localhost:8080/",
          "height": 419
        },
        "id": "81NM3j4eGnv-",
        "outputId": "f1696230-4478-481d-c860-09993233ae2d"
      },
      "source": [
        "text_data"
      ],
      "execution_count": 29,
      "outputs": [
        {
          "output_type": "execute_result",
          "data": {
            "text/html": [
              "<div>\n",
              "<style scoped>\n",
              "    .dataframe tbody tr th:only-of-type {\n",
              "        vertical-align: middle;\n",
              "    }\n",
              "\n",
              "    .dataframe tbody tr th {\n",
              "        vertical-align: top;\n",
              "    }\n",
              "\n",
              "    .dataframe thead th {\n",
              "        text-align: right;\n",
              "    }\n",
              "</style>\n",
              "<table border=\"1\" class=\"dataframe\">\n",
              "  <thead>\n",
              "    <tr style=\"text-align: right;\">\n",
              "      <th></th>\n",
              "      <th>text</th>\n",
              "      <th>clean_text</th>\n",
              "      <th>Polarity</th>\n",
              "    </tr>\n",
              "  </thead>\n",
              "  <tbody>\n",
              "    <tr>\n",
              "      <th>0</th>\n",
              "      <td>I get so angry I want to kill him  I know it...</td>\n",
              "      <td>get angry want kill know fault cant help</td>\n",
              "      <td>-0.50</td>\n",
              "    </tr>\n",
              "    <tr>\n",
              "      <th>1</th>\n",
              "      <td> Feel hopeless its never ending and theres o...</td>\n",
              "      <td>feel hopeless never ending theres long uphill ...</td>\n",
              "      <td>-0.05</td>\n",
              "    </tr>\n",
              "    <tr>\n",
              "      <th>2</th>\n",
              "      <td>This is all time away from my kids and my fam...</td>\n",
              "      <td>this time away kids family missing much</td>\n",
              "      <td>0.00</td>\n",
              "    </tr>\n",
              "    <tr>\n",
              "      <th>3</th>\n",
              "      <td>I guess deep down Im disgusted</td>\n",
              "      <td>guess deep disgusted</td>\n",
              "      <td>-0.50</td>\n",
              "    </tr>\n",
              "    <tr>\n",
              "      <th>4</th>\n",
              "      <td>Laundry is like a hamster on a wheel  it mon...</td>\n",
              "      <td>laundry like hamster wheel monotonous</td>\n",
              "      <td>0.00</td>\n",
              "    </tr>\n",
              "    <tr>\n",
              "      <th>...</th>\n",
              "      <td>...</td>\n",
              "      <td>...</td>\n",
              "      <td>...</td>\n",
              "    </tr>\n",
              "    <tr>\n",
              "      <th>84</th>\n",
              "      <td>Nurturing the family means giving them the fre...</td>\n",
              "      <td>nurturing family means giving freedom play saf...</td>\n",
              "      <td>0.00</td>\n",
              "    </tr>\n",
              "    <tr>\n",
              "      <th>85</th>\n",
              "      <td>Caregivers want to feel emotionally reassured ...</td>\n",
              "      <td>caregivers want feel emotionally reassured pro...</td>\n",
              "      <td>0.50</td>\n",
              "    </tr>\n",
              "    <tr>\n",
              "      <th>86</th>\n",
              "      <td>Wrapping children in protection and softness.</td>\n",
              "      <td>wrapping children protection softness</td>\n",
              "      <td>0.00</td>\n",
              "    </tr>\n",
              "    <tr>\n",
              "      <th>87</th>\n",
              "      <td>Skin irritations on delicate skin can be emoti...</td>\n",
              "      <td>skin irritations delicate skin emotionally tra...</td>\n",
              "      <td>-0.15</td>\n",
              "    </tr>\n",
              "    <tr>\n",
              "      <th>88</th>\n",
              "      <td>Its not just about my baby  its about makin...</td>\n",
              "      <td>its baby making feel care tips toes</td>\n",
              "      <td>0.00</td>\n",
              "    </tr>\n",
              "  </tbody>\n",
              "</table>\n",
              "<p>89 rows × 3 columns</p>\n",
              "</div>"
            ],
            "text/plain": [
              "                                                 text  ... Polarity\n",
              "0   I get so angry I want to kill him  I know it...  ...    -0.50\n",
              "1    Feel hopeless its never ending and theres o...  ...    -0.05\n",
              "2   This is all time away from my kids and my fam...  ...     0.00\n",
              "3                   I guess deep down Im disgusted  ...    -0.50\n",
              "4   Laundry is like a hamster on a wheel  it mon...  ...     0.00\n",
              "..                                                ...  ...      ...\n",
              "84  Nurturing the family means giving them the fre...  ...     0.00\n",
              "85  Caregivers want to feel emotionally reassured ...  ...     0.50\n",
              "86      Wrapping children in protection and softness.  ...     0.00\n",
              "87  Skin irritations on delicate skin can be emoti...  ...    -0.15\n",
              "88  Its not just about my baby  its about makin...  ...     0.00\n",
              "\n",
              "[89 rows x 3 columns]"
            ]
          },
          "metadata": {
            "tags": []
          },
          "execution_count": 29
        }
      ]
    },
    {
      "cell_type": "code",
      "metadata": {
        "colab": {
          "base_uri": "https://localhost:8080/"
        },
        "id": "64jxoFqWG1Ue",
        "outputId": "7dfce5d7-d554-4f29-de16-a551fb44e9ac"
      },
      "source": [
        "from nltk.sentiment import SentimentIntensityAnalyzer\n",
        "nltk.download('vader_lexicon')"
      ],
      "execution_count": 30,
      "outputs": [
        {
          "output_type": "stream",
          "text": [
            "[nltk_data] Downloading package vader_lexicon to /root/nltk_data...\n"
          ],
          "name": "stdout"
        },
        {
          "output_type": "stream",
          "text": [
            "/usr/local/lib/python3.7/dist-packages/nltk/twitter/__init__.py:20: UserWarning: The twython library has not been installed. Some functionality from the twitter package will not be available.\n",
            "  warnings.warn(\"The twython library has not been installed. \"\n"
          ],
          "name": "stderr"
        },
        {
          "output_type": "execute_result",
          "data": {
            "text/plain": [
              "True"
            ]
          },
          "metadata": {
            "tags": []
          },
          "execution_count": 30
        }
      ]
    },
    {
      "cell_type": "code",
      "metadata": {
        "id": "ZlcW4_wxJ4XE"
      },
      "source": [
        "analyzer = SentimentIntensityAnalyzer()\n",
        "text_data['neg'] = [analyzer.polarity_scores(x)['neg'] for x in text_data['clean_text']]\n",
        "text_data['neu'] = [analyzer.polarity_scores(x)['neu'] for x in text_data['clean_text']]\n",
        "text_data['pos'] = [analyzer.polarity_scores(x)['pos'] for x in text_data['clean_text']]"
      ],
      "execution_count": 31,
      "outputs": []
    },
    {
      "cell_type": "code",
      "metadata": {
        "colab": {
          "base_uri": "https://localhost:8080/",
          "height": 419
        },
        "id": "Ri1TUvSBKziX",
        "outputId": "6f3acc6d-7af4-4895-c414-360c13ace0ab"
      },
      "source": [
        "text_data"
      ],
      "execution_count": 32,
      "outputs": [
        {
          "output_type": "execute_result",
          "data": {
            "text/html": [
              "<div>\n",
              "<style scoped>\n",
              "    .dataframe tbody tr th:only-of-type {\n",
              "        vertical-align: middle;\n",
              "    }\n",
              "\n",
              "    .dataframe tbody tr th {\n",
              "        vertical-align: top;\n",
              "    }\n",
              "\n",
              "    .dataframe thead th {\n",
              "        text-align: right;\n",
              "    }\n",
              "</style>\n",
              "<table border=\"1\" class=\"dataframe\">\n",
              "  <thead>\n",
              "    <tr style=\"text-align: right;\">\n",
              "      <th></th>\n",
              "      <th>text</th>\n",
              "      <th>clean_text</th>\n",
              "      <th>Polarity</th>\n",
              "      <th>neg</th>\n",
              "      <th>neu</th>\n",
              "      <th>pos</th>\n",
              "    </tr>\n",
              "  </thead>\n",
              "  <tbody>\n",
              "    <tr>\n",
              "      <th>0</th>\n",
              "      <td>I get so angry I want to kill him  I know it...</td>\n",
              "      <td>get angry want kill know fault cant help</td>\n",
              "      <td>-0.50</td>\n",
              "      <td>0.751</td>\n",
              "      <td>0.174</td>\n",
              "      <td>0.075</td>\n",
              "    </tr>\n",
              "    <tr>\n",
              "      <th>1</th>\n",
              "      <td> Feel hopeless its never ending and theres o...</td>\n",
              "      <td>feel hopeless never ending theres long uphill ...</td>\n",
              "      <td>-0.05</td>\n",
              "      <td>0.483</td>\n",
              "      <td>0.517</td>\n",
              "      <td>0.000</td>\n",
              "    </tr>\n",
              "    <tr>\n",
              "      <th>2</th>\n",
              "      <td>This is all time away from my kids and my fam...</td>\n",
              "      <td>this time away kids family missing much</td>\n",
              "      <td>0.00</td>\n",
              "      <td>0.268</td>\n",
              "      <td>0.732</td>\n",
              "      <td>0.000</td>\n",
              "    </tr>\n",
              "    <tr>\n",
              "      <th>3</th>\n",
              "      <td>I guess deep down Im disgusted</td>\n",
              "      <td>guess deep disgusted</td>\n",
              "      <td>-0.50</td>\n",
              "      <td>0.630</td>\n",
              "      <td>0.370</td>\n",
              "      <td>0.000</td>\n",
              "    </tr>\n",
              "    <tr>\n",
              "      <th>4</th>\n",
              "      <td>Laundry is like a hamster on a wheel  it mon...</td>\n",
              "      <td>laundry like hamster wheel monotonous</td>\n",
              "      <td>0.00</td>\n",
              "      <td>0.000</td>\n",
              "      <td>0.615</td>\n",
              "      <td>0.385</td>\n",
              "    </tr>\n",
              "    <tr>\n",
              "      <th>...</th>\n",
              "      <td>...</td>\n",
              "      <td>...</td>\n",
              "      <td>...</td>\n",
              "      <td>...</td>\n",
              "      <td>...</td>\n",
              "      <td>...</td>\n",
              "    </tr>\n",
              "    <tr>\n",
              "      <th>84</th>\n",
              "      <td>Nurturing the family means giving them the fre...</td>\n",
              "      <td>nurturing family means giving freedom play saf...</td>\n",
              "      <td>0.00</td>\n",
              "      <td>0.000</td>\n",
              "      <td>0.104</td>\n",
              "      <td>0.896</td>\n",
              "    </tr>\n",
              "    <tr>\n",
              "      <th>85</th>\n",
              "      <td>Caregivers want to feel emotionally reassured ...</td>\n",
              "      <td>caregivers want feel emotionally reassured pro...</td>\n",
              "      <td>0.50</td>\n",
              "      <td>0.000</td>\n",
              "      <td>0.380</td>\n",
              "      <td>0.620</td>\n",
              "    </tr>\n",
              "    <tr>\n",
              "      <th>86</th>\n",
              "      <td>Wrapping children in protection and softness.</td>\n",
              "      <td>wrapping children protection softness</td>\n",
              "      <td>0.00</td>\n",
              "      <td>0.000</td>\n",
              "      <td>1.000</td>\n",
              "      <td>0.000</td>\n",
              "    </tr>\n",
              "    <tr>\n",
              "      <th>87</th>\n",
              "      <td>Skin irritations on delicate skin can be emoti...</td>\n",
              "      <td>skin irritations delicate skin emotionally tra...</td>\n",
              "      <td>-0.15</td>\n",
              "      <td>0.596</td>\n",
              "      <td>0.288</td>\n",
              "      <td>0.115</td>\n",
              "    </tr>\n",
              "    <tr>\n",
              "      <th>88</th>\n",
              "      <td>Its not just about my baby  its about makin...</td>\n",
              "      <td>its baby making feel care tips toes</td>\n",
              "      <td>0.00</td>\n",
              "      <td>0.000</td>\n",
              "      <td>0.652</td>\n",
              "      <td>0.348</td>\n",
              "    </tr>\n",
              "  </tbody>\n",
              "</table>\n",
              "<p>89 rows × 6 columns</p>\n",
              "</div>"
            ],
            "text/plain": [
              "                                                 text  ...    pos\n",
              "0   I get so angry I want to kill him  I know it...  ...  0.075\n",
              "1    Feel hopeless its never ending and theres o...  ...  0.000\n",
              "2   This is all time away from my kids and my fam...  ...  0.000\n",
              "3                   I guess deep down Im disgusted  ...  0.000\n",
              "4   Laundry is like a hamster on a wheel  it mon...  ...  0.385\n",
              "..                                                ...  ...    ...\n",
              "84  Nurturing the family means giving them the fre...  ...  0.896\n",
              "85  Caregivers want to feel emotionally reassured ...  ...  0.620\n",
              "86      Wrapping children in protection and softness.  ...  0.000\n",
              "87  Skin irritations on delicate skin can be emoti...  ...  0.115\n",
              "88  Its not just about my baby  its about makin...  ...  0.348\n",
              "\n",
              "[89 rows x 6 columns]"
            ]
          },
          "metadata": {
            "tags": []
          },
          "execution_count": 32
        }
      ]
    },
    {
      "cell_type": "code",
      "metadata": {
        "colab": {
          "base_uri": "https://localhost:8080/"
        },
        "id": "ucP8cfpFMFzF",
        "outputId": "186cfae8-cc81-418c-f914-827266918680"
      },
      "source": [
        "!pip install nrclex\n"
      ],
      "execution_count": 33,
      "outputs": [
        {
          "output_type": "stream",
          "text": [
            "Collecting nrclex\n",
            "  Downloading NRCLex-3.0.0.tar.gz (396 kB)\n",
            "\u001b[?25l\r\u001b[K     |▉                               | 10 kB 23.8 MB/s eta 0:00:01\r\u001b[K     |█▋                              | 20 kB 21.2 MB/s eta 0:00:01\r\u001b[K     |██▌                             | 30 kB 23.4 MB/s eta 0:00:01\r\u001b[K     |███▎                            | 40 kB 25.7 MB/s eta 0:00:01\r\u001b[K     |████▏                           | 51 kB 27.6 MB/s eta 0:00:01\r\u001b[K     |█████                           | 61 kB 30.4 MB/s eta 0:00:01\r\u001b[K     |█████▉                          | 71 kB 31.3 MB/s eta 0:00:01\r\u001b[K     |██████▋                         | 81 kB 31.8 MB/s eta 0:00:01\r\u001b[K     |███████▍                        | 92 kB 31.7 MB/s eta 0:00:01\r\u001b[K     |████████▎                       | 102 kB 33.0 MB/s eta 0:00:01\r\u001b[K     |█████████                       | 112 kB 33.0 MB/s eta 0:00:01\r\u001b[K     |██████████                      | 122 kB 33.0 MB/s eta 0:00:01\r\u001b[K     |██████████▊                     | 133 kB 33.0 MB/s eta 0:00:01\r\u001b[K     |███████████▋                    | 143 kB 33.0 MB/s eta 0:00:01\r\u001b[K     |████████████▍                   | 153 kB 33.0 MB/s eta 0:00:01\r\u001b[K     |█████████████▎                  | 163 kB 33.0 MB/s eta 0:00:01\r\u001b[K     |██████████████                  | 174 kB 33.0 MB/s eta 0:00:01\r\u001b[K     |██████████████▉                 | 184 kB 33.0 MB/s eta 0:00:01\r\u001b[K     |███████████████▊                | 194 kB 33.0 MB/s eta 0:00:01\r\u001b[K     |████████████████▌               | 204 kB 33.0 MB/s eta 0:00:01\r\u001b[K     |█████████████████▍              | 215 kB 33.0 MB/s eta 0:00:01\r\u001b[K     |██████████████████▏             | 225 kB 33.0 MB/s eta 0:00:01\r\u001b[K     |███████████████████             | 235 kB 33.0 MB/s eta 0:00:01\r\u001b[K     |███████████████████▉            | 245 kB 33.0 MB/s eta 0:00:01\r\u001b[K     |████████████████████▊           | 256 kB 33.0 MB/s eta 0:00:01\r\u001b[K     |█████████████████████▌          | 266 kB 33.0 MB/s eta 0:00:01\r\u001b[K     |██████████████████████▎         | 276 kB 33.0 MB/s eta 0:00:01\r\u001b[K     |███████████████████████▏        | 286 kB 33.0 MB/s eta 0:00:01\r\u001b[K     |████████████████████████        | 296 kB 33.0 MB/s eta 0:00:01\r\u001b[K     |████████████████████████▉       | 307 kB 33.0 MB/s eta 0:00:01\r\u001b[K     |█████████████████████████▋      | 317 kB 33.0 MB/s eta 0:00:01\r\u001b[K     |██████████████████████████▌     | 327 kB 33.0 MB/s eta 0:00:01\r\u001b[K     |███████████████████████████▎    | 337 kB 33.0 MB/s eta 0:00:01\r\u001b[K     |████████████████████████████    | 348 kB 33.0 MB/s eta 0:00:01\r\u001b[K     |█████████████████████████████   | 358 kB 33.0 MB/s eta 0:00:01\r\u001b[K     |█████████████████████████████▊  | 368 kB 33.0 MB/s eta 0:00:01\r\u001b[K     |██████████████████████████████▋ | 378 kB 33.0 MB/s eta 0:00:01\r\u001b[K     |███████████████████████████████▍| 389 kB 33.0 MB/s eta 0:00:01\r\u001b[K     |████████████████████████████████| 396 kB 33.0 MB/s \n",
            "\u001b[?25hRequirement already satisfied: textblob in /usr/local/lib/python3.7/dist-packages (from nrclex) (0.15.3)\n",
            "Requirement already satisfied: nltk>=3.1 in /usr/local/lib/python3.7/dist-packages (from textblob->nrclex) (3.2.5)\n",
            "Requirement already satisfied: six in /usr/local/lib/python3.7/dist-packages (from nltk>=3.1->textblob->nrclex) (1.15.0)\n",
            "Building wheels for collected packages: nrclex\n",
            "  Building wheel for nrclex (setup.py) ... \u001b[?25l\u001b[?25hdone\n",
            "  Created wheel for nrclex: filename=NRCLex-3.0.0-py3-none-any.whl size=43328 sha256=fad5a03b1bbf292deb0a81e8112aca1530e745dd3a4827fc301e538deab41652\n",
            "  Stored in directory: /root/.cache/pip/wheels/af/2c/9c/dfa19d1b65326c520b32850a9311f6d4eda679ac04dba26081\n",
            "Successfully built nrclex\n",
            "Installing collected packages: nrclex\n",
            "Successfully installed nrclex-3.0.0\n"
          ],
          "name": "stdout"
        }
      ]
    },
    {
      "cell_type": "code",
      "metadata": {
        "id": "sgsjH1nKNyii",
        "colab": {
          "base_uri": "https://localhost:8080/"
        },
        "outputId": "9118cad4-f13e-4131-8e3f-25d15c57a140"
      },
      "source": [
        "from nrclex import NRCLex\n",
        "nltk.download('punkt')"
      ],
      "execution_count": 36,
      "outputs": [
        {
          "output_type": "stream",
          "text": [
            "[nltk_data] Downloading package punkt to /root/nltk_data...\n",
            "[nltk_data]   Unzipping tokenizers/punkt.zip.\n"
          ],
          "name": "stdout"
        },
        {
          "output_type": "execute_result",
          "data": {
            "text/plain": [
              "True"
            ]
          },
          "metadata": {
            "tags": []
          },
          "execution_count": 36
        }
      ]
    },
    {
      "cell_type": "code",
      "metadata": {
        "colab": {
          "base_uri": "https://localhost:8080/",
          "height": 419
        },
        "id": "3ZFqiku0N28i",
        "outputId": "c645e956-00ed-4e4a-a306-591a6b56a462"
      },
      "source": [
        "def getEmotion(text):\n",
        "    res1 = {'anger': 0.0, 'fear': 0.0, 'negative': 0.0, 'positive': 0.0, 'sadness': 0.0, 'trust': 0.0, 'anticipation': 0.0, 'joy': 0.0, 'disgust': 0.0, 'surprise': 0.0}\n",
        "    text = NRCLex(text)\n",
        "    freq = text.raw_emotion_scores\n",
        "    for k, fq in freq.items():\n",
        "      res1[k] = res1.get(k, 0.0) + fq\n",
        "    return res1\n",
        "\n",
        "text_data['raw_emotion']=text_data['clean_text'].apply(getEmotion)\n",
        "\n",
        "text_data\n",
        "\n",
        "\n"
      ],
      "execution_count": 37,
      "outputs": [
        {
          "output_type": "execute_result",
          "data": {
            "text/html": [
              "<div>\n",
              "<style scoped>\n",
              "    .dataframe tbody tr th:only-of-type {\n",
              "        vertical-align: middle;\n",
              "    }\n",
              "\n",
              "    .dataframe tbody tr th {\n",
              "        vertical-align: top;\n",
              "    }\n",
              "\n",
              "    .dataframe thead th {\n",
              "        text-align: right;\n",
              "    }\n",
              "</style>\n",
              "<table border=\"1\" class=\"dataframe\">\n",
              "  <thead>\n",
              "    <tr style=\"text-align: right;\">\n",
              "      <th></th>\n",
              "      <th>text</th>\n",
              "      <th>clean_text</th>\n",
              "      <th>Polarity</th>\n",
              "      <th>neg</th>\n",
              "      <th>neu</th>\n",
              "      <th>pos</th>\n",
              "      <th>raw_emotion</th>\n",
              "    </tr>\n",
              "  </thead>\n",
              "  <tbody>\n",
              "    <tr>\n",
              "      <th>0</th>\n",
              "      <td>I get so angry I want to kill him  I know it...</td>\n",
              "      <td>get angry want kill know fault cant help</td>\n",
              "      <td>-0.50</td>\n",
              "      <td>0.751</td>\n",
              "      <td>0.174</td>\n",
              "      <td>0.075</td>\n",
              "      <td>{'anger': 1.0, 'fear': 1.0, 'negative': 3.0, '...</td>\n",
              "    </tr>\n",
              "    <tr>\n",
              "      <th>1</th>\n",
              "      <td> Feel hopeless its never ending and theres o...</td>\n",
              "      <td>feel hopeless never ending theres long uphill ...</td>\n",
              "      <td>-0.05</td>\n",
              "      <td>0.483</td>\n",
              "      <td>0.517</td>\n",
              "      <td>0.000</td>\n",
              "      <td>{'anger': 1.0, 'fear': 2.0, 'negative': 3.0, '...</td>\n",
              "    </tr>\n",
              "    <tr>\n",
              "      <th>2</th>\n",
              "      <td>This is all time away from my kids and my fam...</td>\n",
              "      <td>this time away kids family missing much</td>\n",
              "      <td>0.00</td>\n",
              "      <td>0.268</td>\n",
              "      <td>0.732</td>\n",
              "      <td>0.000</td>\n",
              "      <td>{'anger': 0.0, 'fear': 1.0, 'negative': 1.0, '...</td>\n",
              "    </tr>\n",
              "    <tr>\n",
              "      <th>3</th>\n",
              "      <td>I guess deep down Im disgusted</td>\n",
              "      <td>guess deep disgusted</td>\n",
              "      <td>-0.50</td>\n",
              "      <td>0.630</td>\n",
              "      <td>0.370</td>\n",
              "      <td>0.000</td>\n",
              "      <td>{'anger': 0.0, 'fear': 0.0, 'negative': 0.0, '...</td>\n",
              "    </tr>\n",
              "    <tr>\n",
              "      <th>4</th>\n",
              "      <td>Laundry is like a hamster on a wheel  it mon...</td>\n",
              "      <td>laundry like hamster wheel monotonous</td>\n",
              "      <td>0.00</td>\n",
              "      <td>0.000</td>\n",
              "      <td>0.615</td>\n",
              "      <td>0.385</td>\n",
              "      <td>{'anger': 0.0, 'fear': 0.0, 'negative': 0.0, '...</td>\n",
              "    </tr>\n",
              "    <tr>\n",
              "      <th>...</th>\n",
              "      <td>...</td>\n",
              "      <td>...</td>\n",
              "      <td>...</td>\n",
              "      <td>...</td>\n",
              "      <td>...</td>\n",
              "      <td>...</td>\n",
              "      <td>...</td>\n",
              "    </tr>\n",
              "    <tr>\n",
              "      <th>84</th>\n",
              "      <td>Nurturing the family means giving them the fre...</td>\n",
              "      <td>nurturing family means giving freedom play saf...</td>\n",
              "      <td>0.00</td>\n",
              "      <td>0.000</td>\n",
              "      <td>0.104</td>\n",
              "      <td>0.896</td>\n",
              "      <td>{'anger': 0.0, 'fear': 0.0, 'negative': 0.0, '...</td>\n",
              "    </tr>\n",
              "    <tr>\n",
              "      <th>85</th>\n",
              "      <td>Caregivers want to feel emotionally reassured ...</td>\n",
              "      <td>caregivers want feel emotionally reassured pro...</td>\n",
              "      <td>0.50</td>\n",
              "      <td>0.000</td>\n",
              "      <td>0.380</td>\n",
              "      <td>0.620</td>\n",
              "      <td>{'anger': 0.0, 'fear': 0.0, 'negative': 0.0, '...</td>\n",
              "    </tr>\n",
              "    <tr>\n",
              "      <th>86</th>\n",
              "      <td>Wrapping children in protection and softness.</td>\n",
              "      <td>wrapping children protection softness</td>\n",
              "      <td>0.00</td>\n",
              "      <td>0.000</td>\n",
              "      <td>1.000</td>\n",
              "      <td>0.000</td>\n",
              "      <td>{'anger': 0.0, 'fear': 0.0, 'negative': 0.0, '...</td>\n",
              "    </tr>\n",
              "    <tr>\n",
              "      <th>87</th>\n",
              "      <td>Skin irritations on delicate skin can be emoti...</td>\n",
              "      <td>skin irritations delicate skin emotionally tra...</td>\n",
              "      <td>-0.15</td>\n",
              "      <td>0.596</td>\n",
              "      <td>0.288</td>\n",
              "      <td>0.115</td>\n",
              "      <td>{'anger': 1.0, 'fear': 1.0, 'negative': 1.0, '...</td>\n",
              "    </tr>\n",
              "    <tr>\n",
              "      <th>88</th>\n",
              "      <td>Its not just about my baby  its about makin...</td>\n",
              "      <td>its baby making feel care tips toes</td>\n",
              "      <td>0.00</td>\n",
              "      <td>0.000</td>\n",
              "      <td>0.652</td>\n",
              "      <td>0.348</td>\n",
              "      <td>{'anger': 0.0, 'fear': 0.0, 'negative': 0.0, '...</td>\n",
              "    </tr>\n",
              "  </tbody>\n",
              "</table>\n",
              "<p>89 rows × 7 columns</p>\n",
              "</div>"
            ],
            "text/plain": [
              "                                                 text  ...                                        raw_emotion\n",
              "0   I get so angry I want to kill him  I know it...  ...  {'anger': 1.0, 'fear': 1.0, 'negative': 3.0, '...\n",
              "1    Feel hopeless its never ending and theres o...  ...  {'anger': 1.0, 'fear': 2.0, 'negative': 3.0, '...\n",
              "2   This is all time away from my kids and my fam...  ...  {'anger': 0.0, 'fear': 1.0, 'negative': 1.0, '...\n",
              "3                   I guess deep down Im disgusted  ...  {'anger': 0.0, 'fear': 0.0, 'negative': 0.0, '...\n",
              "4   Laundry is like a hamster on a wheel  it mon...  ...  {'anger': 0.0, 'fear': 0.0, 'negative': 0.0, '...\n",
              "..                                                ...  ...                                                ...\n",
              "84  Nurturing the family means giving them the fre...  ...  {'anger': 0.0, 'fear': 0.0, 'negative': 0.0, '...\n",
              "85  Caregivers want to feel emotionally reassured ...  ...  {'anger': 0.0, 'fear': 0.0, 'negative': 0.0, '...\n",
              "86      Wrapping children in protection and softness.  ...  {'anger': 0.0, 'fear': 0.0, 'negative': 0.0, '...\n",
              "87  Skin irritations on delicate skin can be emoti...  ...  {'anger': 1.0, 'fear': 1.0, 'negative': 1.0, '...\n",
              "88  Its not just about my baby  its about makin...  ...  {'anger': 0.0, 'fear': 0.0, 'negative': 0.0, '...\n",
              "\n",
              "[89 rows x 7 columns]"
            ]
          },
          "metadata": {
            "tags": []
          },
          "execution_count": 37
        }
      ]
    },
    {
      "cell_type": "code",
      "metadata": {
        "id": "vcHqV5v6VDPr"
      },
      "source": [
        "text_data = pd.concat((text_data.drop(['raw_emotion'],axis=1), text_data['raw_emotion'].apply(pd.Series)), axis=1)"
      ],
      "execution_count": 38,
      "outputs": []
    },
    {
      "cell_type": "code",
      "metadata": {
        "colab": {
          "base_uri": "https://localhost:8080/",
          "height": 419
        },
        "id": "lw1DuYl5VOHC",
        "outputId": "f76ac509-63a4-429b-eb93-fc16bb76ebb9"
      },
      "source": [
        "text_data"
      ],
      "execution_count": 39,
      "outputs": [
        {
          "output_type": "execute_result",
          "data": {
            "text/html": [
              "<div>\n",
              "<style scoped>\n",
              "    .dataframe tbody tr th:only-of-type {\n",
              "        vertical-align: middle;\n",
              "    }\n",
              "\n",
              "    .dataframe tbody tr th {\n",
              "        vertical-align: top;\n",
              "    }\n",
              "\n",
              "    .dataframe thead th {\n",
              "        text-align: right;\n",
              "    }\n",
              "</style>\n",
              "<table border=\"1\" class=\"dataframe\">\n",
              "  <thead>\n",
              "    <tr style=\"text-align: right;\">\n",
              "      <th></th>\n",
              "      <th>text</th>\n",
              "      <th>clean_text</th>\n",
              "      <th>Polarity</th>\n",
              "      <th>neg</th>\n",
              "      <th>neu</th>\n",
              "      <th>pos</th>\n",
              "      <th>anger</th>\n",
              "      <th>fear</th>\n",
              "      <th>negative</th>\n",
              "      <th>positive</th>\n",
              "      <th>sadness</th>\n",
              "      <th>trust</th>\n",
              "      <th>anticipation</th>\n",
              "      <th>joy</th>\n",
              "      <th>disgust</th>\n",
              "      <th>surprise</th>\n",
              "    </tr>\n",
              "  </thead>\n",
              "  <tbody>\n",
              "    <tr>\n",
              "      <th>0</th>\n",
              "      <td>I get so angry I want to kill him  I know it...</td>\n",
              "      <td>get angry want kill know fault cant help</td>\n",
              "      <td>-0.50</td>\n",
              "      <td>0.751</td>\n",
              "      <td>0.174</td>\n",
              "      <td>0.075</td>\n",
              "      <td>1.0</td>\n",
              "      <td>1.0</td>\n",
              "      <td>3.0</td>\n",
              "      <td>0.0</td>\n",
              "      <td>2.0</td>\n",
              "      <td>0.0</td>\n",
              "      <td>0.0</td>\n",
              "      <td>0.0</td>\n",
              "      <td>1.0</td>\n",
              "      <td>0.0</td>\n",
              "    </tr>\n",
              "    <tr>\n",
              "      <th>1</th>\n",
              "      <td> Feel hopeless its never ending and theres o...</td>\n",
              "      <td>feel hopeless never ending theres long uphill ...</td>\n",
              "      <td>-0.05</td>\n",
              "      <td>0.483</td>\n",
              "      <td>0.517</td>\n",
              "      <td>0.000</td>\n",
              "      <td>1.0</td>\n",
              "      <td>2.0</td>\n",
              "      <td>3.0</td>\n",
              "      <td>1.0</td>\n",
              "      <td>1.0</td>\n",
              "      <td>0.0</td>\n",
              "      <td>2.0</td>\n",
              "      <td>0.0</td>\n",
              "      <td>0.0</td>\n",
              "      <td>0.0</td>\n",
              "    </tr>\n",
              "    <tr>\n",
              "      <th>2</th>\n",
              "      <td>This is all time away from my kids and my fam...</td>\n",
              "      <td>this time away kids family missing much</td>\n",
              "      <td>0.00</td>\n",
              "      <td>0.268</td>\n",
              "      <td>0.732</td>\n",
              "      <td>0.000</td>\n",
              "      <td>0.0</td>\n",
              "      <td>1.0</td>\n",
              "      <td>1.0</td>\n",
              "      <td>0.0</td>\n",
              "      <td>1.0</td>\n",
              "      <td>0.0</td>\n",
              "      <td>1.0</td>\n",
              "      <td>0.0</td>\n",
              "      <td>0.0</td>\n",
              "      <td>0.0</td>\n",
              "    </tr>\n",
              "    <tr>\n",
              "      <th>3</th>\n",
              "      <td>I guess deep down Im disgusted</td>\n",
              "      <td>guess deep disgusted</td>\n",
              "      <td>-0.50</td>\n",
              "      <td>0.630</td>\n",
              "      <td>0.370</td>\n",
              "      <td>0.000</td>\n",
              "      <td>0.0</td>\n",
              "      <td>0.0</td>\n",
              "      <td>0.0</td>\n",
              "      <td>0.0</td>\n",
              "      <td>0.0</td>\n",
              "      <td>0.0</td>\n",
              "      <td>0.0</td>\n",
              "      <td>0.0</td>\n",
              "      <td>0.0</td>\n",
              "      <td>1.0</td>\n",
              "    </tr>\n",
              "    <tr>\n",
              "      <th>4</th>\n",
              "      <td>Laundry is like a hamster on a wheel  it mon...</td>\n",
              "      <td>laundry like hamster wheel monotonous</td>\n",
              "      <td>0.00</td>\n",
              "      <td>0.000</td>\n",
              "      <td>0.615</td>\n",
              "      <td>0.385</td>\n",
              "      <td>0.0</td>\n",
              "      <td>0.0</td>\n",
              "      <td>0.0</td>\n",
              "      <td>0.0</td>\n",
              "      <td>0.0</td>\n",
              "      <td>0.0</td>\n",
              "      <td>0.0</td>\n",
              "      <td>0.0</td>\n",
              "      <td>0.0</td>\n",
              "      <td>0.0</td>\n",
              "    </tr>\n",
              "    <tr>\n",
              "      <th>...</th>\n",
              "      <td>...</td>\n",
              "      <td>...</td>\n",
              "      <td>...</td>\n",
              "      <td>...</td>\n",
              "      <td>...</td>\n",
              "      <td>...</td>\n",
              "      <td>...</td>\n",
              "      <td>...</td>\n",
              "      <td>...</td>\n",
              "      <td>...</td>\n",
              "      <td>...</td>\n",
              "      <td>...</td>\n",
              "      <td>...</td>\n",
              "      <td>...</td>\n",
              "      <td>...</td>\n",
              "      <td>...</td>\n",
              "    </tr>\n",
              "    <tr>\n",
              "      <th>84</th>\n",
              "      <td>Nurturing the family means giving them the fre...</td>\n",
              "      <td>nurturing family means giving freedom play saf...</td>\n",
              "      <td>0.00</td>\n",
              "      <td>0.000</td>\n",
              "      <td>0.104</td>\n",
              "      <td>0.896</td>\n",
              "      <td>0.0</td>\n",
              "      <td>0.0</td>\n",
              "      <td>0.0</td>\n",
              "      <td>3.0</td>\n",
              "      <td>0.0</td>\n",
              "      <td>2.0</td>\n",
              "      <td>1.0</td>\n",
              "      <td>2.0</td>\n",
              "      <td>0.0</td>\n",
              "      <td>0.0</td>\n",
              "    </tr>\n",
              "    <tr>\n",
              "      <th>85</th>\n",
              "      <td>Caregivers want to feel emotionally reassured ...</td>\n",
              "      <td>caregivers want feel emotionally reassured pro...</td>\n",
              "      <td>0.50</td>\n",
              "      <td>0.000</td>\n",
              "      <td>0.380</td>\n",
              "      <td>0.620</td>\n",
              "      <td>0.0</td>\n",
              "      <td>0.0</td>\n",
              "      <td>0.0</td>\n",
              "      <td>1.0</td>\n",
              "      <td>0.0</td>\n",
              "      <td>0.0</td>\n",
              "      <td>0.0</td>\n",
              "      <td>0.0</td>\n",
              "      <td>0.0</td>\n",
              "      <td>0.0</td>\n",
              "    </tr>\n",
              "    <tr>\n",
              "      <th>86</th>\n",
              "      <td>Wrapping children in protection and softness.</td>\n",
              "      <td>wrapping children protection softness</td>\n",
              "      <td>0.00</td>\n",
              "      <td>0.000</td>\n",
              "      <td>1.000</td>\n",
              "      <td>0.000</td>\n",
              "      <td>0.0</td>\n",
              "      <td>0.0</td>\n",
              "      <td>0.0</td>\n",
              "      <td>0.0</td>\n",
              "      <td>0.0</td>\n",
              "      <td>0.0</td>\n",
              "      <td>0.0</td>\n",
              "      <td>0.0</td>\n",
              "      <td>0.0</td>\n",
              "      <td>0.0</td>\n",
              "    </tr>\n",
              "    <tr>\n",
              "      <th>87</th>\n",
              "      <td>Skin irritations on delicate skin can be emoti...</td>\n",
              "      <td>skin irritations delicate skin emotionally tra...</td>\n",
              "      <td>-0.15</td>\n",
              "      <td>0.596</td>\n",
              "      <td>0.288</td>\n",
              "      <td>0.115</td>\n",
              "      <td>1.0</td>\n",
              "      <td>1.0</td>\n",
              "      <td>1.0</td>\n",
              "      <td>0.0</td>\n",
              "      <td>1.0</td>\n",
              "      <td>0.0</td>\n",
              "      <td>0.0</td>\n",
              "      <td>0.0</td>\n",
              "      <td>0.0</td>\n",
              "      <td>0.0</td>\n",
              "    </tr>\n",
              "    <tr>\n",
              "      <th>88</th>\n",
              "      <td>Its not just about my baby  its about makin...</td>\n",
              "      <td>its baby making feel care tips toes</td>\n",
              "      <td>0.00</td>\n",
              "      <td>0.000</td>\n",
              "      <td>0.652</td>\n",
              "      <td>0.348</td>\n",
              "      <td>0.0</td>\n",
              "      <td>0.0</td>\n",
              "      <td>0.0</td>\n",
              "      <td>1.0</td>\n",
              "      <td>0.0</td>\n",
              "      <td>0.0</td>\n",
              "      <td>0.0</td>\n",
              "      <td>1.0</td>\n",
              "      <td>0.0</td>\n",
              "      <td>0.0</td>\n",
              "    </tr>\n",
              "  </tbody>\n",
              "</table>\n",
              "<p>89 rows × 16 columns</p>\n",
              "</div>"
            ],
            "text/plain": [
              "                                                 text  ... surprise\n",
              "0   I get so angry I want to kill him  I know it...  ...      0.0\n",
              "1    Feel hopeless its never ending and theres o...  ...      0.0\n",
              "2   This is all time away from my kids and my fam...  ...      0.0\n",
              "3                   I guess deep down Im disgusted  ...      1.0\n",
              "4   Laundry is like a hamster on a wheel  it mon...  ...      0.0\n",
              "..                                                ...  ...      ...\n",
              "84  Nurturing the family means giving them the fre...  ...      0.0\n",
              "85  Caregivers want to feel emotionally reassured ...  ...      0.0\n",
              "86      Wrapping children in protection and softness.  ...      0.0\n",
              "87  Skin irritations on delicate skin can be emoti...  ...      0.0\n",
              "88  Its not just about my baby  its about makin...  ...      0.0\n",
              "\n",
              "[89 rows x 16 columns]"
            ]
          },
          "metadata": {
            "tags": []
          },
          "execution_count": 39
        }
      ]
    },
    {
      "cell_type": "code",
      "metadata": {
        "id": "BhMX-h48LaYt"
      },
      "source": [
        "text_data.to_excel('Python_data.xlsx', index=False)"
      ],
      "execution_count": 63,
      "outputs": []
    },
    {
      "cell_type": "code",
      "metadata": {
        "colab": {
          "base_uri": "https://localhost:8080/",
          "height": 17
        },
        "id": "uSgUufpPR4tP",
        "outputId": "f7700070-ad81-4959-e900-209269af2eec"
      },
      "source": [
        "from google.colab import files\n",
        "files.download(\"Python_data.xlsx\")"
      ],
      "execution_count": 64,
      "outputs": [
        {
          "output_type": "display_data",
          "data": {
            "application/javascript": [
              "\n",
              "    async function download(id, filename, size) {\n",
              "      if (!google.colab.kernel.accessAllowed) {\n",
              "        return;\n",
              "      }\n",
              "      const div = document.createElement('div');\n",
              "      const label = document.createElement('label');\n",
              "      label.textContent = `Downloading \"${filename}\": `;\n",
              "      div.appendChild(label);\n",
              "      const progress = document.createElement('progress');\n",
              "      progress.max = size;\n",
              "      div.appendChild(progress);\n",
              "      document.body.appendChild(div);\n",
              "\n",
              "      const buffers = [];\n",
              "      let downloaded = 0;\n",
              "\n",
              "      const channel = await google.colab.kernel.comms.open(id);\n",
              "      // Send a message to notify the kernel that we're ready.\n",
              "      channel.send({})\n",
              "\n",
              "      for await (const message of channel.messages) {\n",
              "        // Send a message to notify the kernel that we're ready.\n",
              "        channel.send({})\n",
              "        if (message.buffers) {\n",
              "          for (const buffer of message.buffers) {\n",
              "            buffers.push(buffer);\n",
              "            downloaded += buffer.byteLength;\n",
              "            progress.value = downloaded;\n",
              "          }\n",
              "        }\n",
              "      }\n",
              "      const blob = new Blob(buffers, {type: 'application/binary'});\n",
              "      const a = document.createElement('a');\n",
              "      a.href = window.URL.createObjectURL(blob);\n",
              "      a.download = filename;\n",
              "      div.appendChild(a);\n",
              "      a.click();\n",
              "      div.remove();\n",
              "    }\n",
              "  "
            ],
            "text/plain": [
              "<IPython.core.display.Javascript object>"
            ]
          },
          "metadata": {
            "tags": []
          }
        },
        {
          "output_type": "display_data",
          "data": {
            "application/javascript": [
              "download(\"download_61e56f27-dced-4f00-b5f3-e8f6cdb4b884\", \"Python_data.xlsx\", 15324)"
            ],
            "text/plain": [
              "<IPython.core.display.Javascript object>"
            ]
          },
          "metadata": {
            "tags": []
          }
        }
      ]
    }
  ]
}